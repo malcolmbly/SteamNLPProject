{
 "cells": [
  {
   "cell_type": "code",
   "execution_count": 1,
   "metadata": {},
   "outputs": [],
   "source": [
    "import numpy as np\n",
    "import matplotlib.pyplot as plt\n",
    "import pandas as pd\n",
    "import re\n",
    "import ast\n",
    "import tensorflow as tf\n",
    "from tensorflow import keras\n",
    "from tensorflow.keras import layers\n",
    "import tensorflow_datasets as tfds\n",
    "tfds.disable_progress_bar()\n",
    "\n",
    "import sys\n",
    "\n",
    "gpu_devices = tf.config.experimental.list_physical_devices('GPU')\n",
    "for device in gpu_devices: tf.config.experimental.set_memory_growth(device, True)"
   ]
  },
  {
   "cell_type": "code",
   "execution_count": 2,
   "metadata": {
    "scrolled": true
   },
   "outputs": [
    {
     "name": "stdout",
     "output_type": "stream",
     "text": [
      "DATASET_SIZE: 9193\n"
     ]
    }
   ],
   "source": [
    "#load the encoder, encode the reviews, and positive/negative review list\n",
    "encoder=tfds.features.text.SubwordTextEncoder.load_from_file('SteamData/SteamReviewVocab')\n",
    "\n",
    "    \n",
    "generic = lambda x: ast.literal_eval(x)\n",
    "\n",
    "starting_dataframe=pd.read_csv('SteamData/FormattedReviewRatingList.csv', )\n",
    "starting_dataframe=starting_dataframe.rename(columns={'0': 'review'})\n",
    "\n",
    "#shuffle the entire dataset\n",
    "starting_dataframe = starting_dataframe.sample(frac = 1)\n",
    "\n",
    "\n",
    "ratings_array=starting_dataframe.loc[:, 'Rating'].to_numpy()\n",
    "\n",
    "test_ratio=0.1\n",
    "test_size=round(test_ratio*len(ratings_array))\n",
    "\n",
    "test_dataframe= starting_dataframe.iloc[0:test_size].copy()\n",
    "train_dataframe = starting_dataframe.iloc[test_size:].copy()\n",
    "\n",
    "\n",
    "DATASET_SIZE = len(ratings_array)\n",
    "\n",
    "\n",
    "print(\"DATASET_SIZE: \" + str(DATASET_SIZE))\n"
   ]
  },
  {
   "cell_type": "code",
   "execution_count": 3,
   "metadata": {},
   "outputs": [],
   "source": [
    "train_dataframe['review'] = train_dataframe['review'].apply(ast.literal_eval)\n",
    "test_dataframe['review'] = test_dataframe['review'].apply(ast.literal_eval)\n",
    "\n",
    "\n",
    "train_dataframe['review'] = train_dataframe['review'].apply(tf.convert_to_tensor)\n",
    "train_dataframe['Rating'] = train_dataframe['Rating'].apply(tf.convert_to_tensor)\n",
    "\n",
    "test_dataframe['review'] = test_dataframe['review'].apply(tf.convert_to_tensor)\n",
    "test_dataframe['Rating'] = test_dataframe['Rating'].apply(tf.convert_to_tensor)"
   ]
  },
  {
   "cell_type": "code",
   "execution_count": 6,
   "metadata": {},
   "outputs": [
    {
     "name": "stdout",
     "output_type": "stream",
     "text": [
      "REVIEW_LENGTH: 1249\n"
     ]
    }
   ],
   "source": [
    "REVIEW_LENGTH=test_dataframe['review'][0].shape[0]\n",
    "print(\"REVIEW_LENGTH: \" + str(REVIEW_LENGTH))\n",
    "\n",
    "tensor_feature_array=train_dataframe['review'].values\n",
    "tensor_label_array=train_dataframe['Rating'].values\n",
    "\n",
    "\n",
    "tensors_feature_list = tensor_feature_array.tolist()\n",
    "tensors_label_list = tensor_label_array.tolist()\n",
    "\n",
    "\n",
    "test_tensor_feature_array=test_dataframe['review'].values\n",
    "test_tensor_label_array=test_dataframe['Rating'].values\n",
    "\n",
    "test_tensors_feature_list = test_tensor_feature_array.tolist()\n",
    "test_tensors_label_list = test_tensor_label_array.tolist()"
   ]
  },
  {
   "cell_type": "code",
   "execution_count": 7,
   "metadata": {},
   "outputs": [],
   "source": [
    "total_dataset=tf.data.Dataset.from_tensor_slices((tensors_feature_list,tensors_label_list))\n",
    "\n",
    "test_dataset=tf.data.Dataset.from_tensor_slices((test_tensors_feature_list,test_tensors_label_list))\n"
   ]
  },
  {
   "cell_type": "code",
   "execution_count": 8,
   "metadata": {},
   "outputs": [],
   "source": [
    "##Split the encoded words into training and test datasets, take size is the amount of data that goes into the training set\n",
    "training_ratio=0.6\n",
    "take_size= round(training_ratio*(DATASET_SIZE-test_size))\n",
    "batch_size=300\n",
    "vocab_size=encoder.vocab_size\n",
    "\n",
    "test_data= test_dataset.batch(test_size)\n",
    "\n",
    "#Organizing our training and test data\n",
    "train_data = total_dataset.take(take_size).batch(batch_size)\n",
    "\n",
    "validation_data = total_dataset.skip(take_size).batch(1000)\n",
    "\n",
    "\n"
   ]
  },
  {
   "cell_type": "code",
   "execution_count": 9,
   "metadata": {},
   "outputs": [
    {
     "name": "stdout",
     "output_type": "stream",
     "text": [
      "Model: \"sequential\"\n",
      "_________________________________________________________________\n",
      "Layer (type)                 Output Shape              Param #   \n",
      "=================================================================\n",
      "embedding (Embedding)        (None, 1249, 30)          254100    \n",
      "_________________________________________________________________\n",
      "dropout (Dropout)            (None, 1249, 30)          0         \n",
      "_________________________________________________________________\n",
      "bidirectional (Bidirectional (None, 60)                14640     \n",
      "_________________________________________________________________\n",
      "dropout_1 (Dropout)          (None, 60)                0         \n",
      "_________________________________________________________________\n",
      "dense (Dense)                (None, 30)                1830      \n",
      "_________________________________________________________________\n",
      "dense_1 (Dense)              (None, 1)                 31        \n",
      "=================================================================\n",
      "Total params: 270,601\n",
      "Trainable params: 270,601\n",
      "Non-trainable params: 0\n",
      "_________________________________________________________________\n"
     ]
    }
   ],
   "source": [
    "embedding_dim=25\n",
    "learn_rate= 0.003\n",
    "#determining layers of our neural network\n",
    "model = keras.Sequential([\n",
    "    layers.Embedding(vocab_size, embedding_dim, input_length=(REVIEW_LENGTH)),\n",
    "    layers.Dropout(rate=0.1),\n",
    "    layers.Bidirectional(tf.keras.layers.LSTM(25)),\n",
    "    layers.Dropout(rate=0.1),\n",
    "    layers.Dense(1, activation='sigmoid')\n",
    "])\n",
    "\n",
    "#batch_input_shape=(batch_size, n_timesteps, n_features)\n",
    "model.summary()"
   ]
  },
  {
   "cell_type": "code",
   "execution_count": 10,
   "metadata": {},
   "outputs": [
    {
     "name": "stdout",
     "output_type": "stream",
     "text": [
      "Train for 17 steps, validate for 4 steps\n",
      "Epoch 1/15\n",
      "17/17 [==============================] - 6s 333ms/step - loss: 0.6733 - accuracy: 0.5685 - val_loss: 0.6430 - val_accuracy: 0.5716\n",
      "Epoch 2/15\n",
      "17/17 [==============================] - 2s 111ms/step - loss: 0.5775 - accuracy: 0.7216 - val_loss: 0.5313 - val_accuracy: 0.7680\n",
      "Epoch 3/15\n",
      "17/17 [==============================] - 2s 114ms/step - loss: 0.4323 - accuracy: 0.8131 - val_loss: 0.4665 - val_accuracy: 0.7807\n",
      "Epoch 4/15\n",
      "17/17 [==============================] - 2s 112ms/step - loss: 0.2965 - accuracy: 0.8844 - val_loss: 0.4533 - val_accuracy: 0.8215\n",
      "Epoch 5/15\n",
      "17/17 [==============================] - 2s 114ms/step - loss: 0.1984 - accuracy: 0.9261 - val_loss: 0.4914 - val_accuracy: 0.8160\n",
      "Epoch 6/15\n",
      "17/17 [==============================] - 2s 112ms/step - loss: 0.1377 - accuracy: 0.9521 - val_loss: 0.7175 - val_accuracy: 0.7876\n",
      "Epoch 7/15\n",
      "17/17 [==============================] - 2s 112ms/step - loss: 0.1326 - accuracy: 0.9510 - val_loss: 0.5809 - val_accuracy: 0.8181\n",
      "Epoch 8/15\n",
      "17/17 [==============================] - 2s 114ms/step - loss: 0.1141 - accuracy: 0.9549 - val_loss: 0.5945 - val_accuracy: 0.8112\n",
      "Epoch 9/15\n",
      "17/17 [==============================] - 2s 112ms/step - loss: 0.0737 - accuracy: 0.9738 - val_loss: 0.7520 - val_accuracy: 0.7985\n",
      "Epoch 10/15\n",
      "17/17 [==============================] - 2s 113ms/step - loss: 0.0510 - accuracy: 0.9829 - val_loss: 0.7772 - val_accuracy: 0.8130\n",
      "Epoch 11/15\n",
      "17/17 [==============================] - 2s 115ms/step - loss: 0.0327 - accuracy: 0.9893 - val_loss: 0.8637 - val_accuracy: 0.8109\n",
      "Epoch 12/15\n",
      "17/17 [==============================] - 2s 114ms/step - loss: 0.0257 - accuracy: 0.9919 - val_loss: 0.9137 - val_accuracy: 0.8063\n",
      "Epoch 13/15\n",
      "17/17 [==============================] - 2s 116ms/step - loss: 0.0232 - accuracy: 0.9927 - val_loss: 0.9830 - val_accuracy: 0.8036\n",
      "Epoch 14/15\n",
      "17/17 [==============================] - 2s 114ms/step - loss: 0.0280 - accuracy: 0.9919 - val_loss: 0.9906 - val_accuracy: 0.7991\n",
      "Epoch 15/15\n",
      "17/17 [==============================] - 2s 113ms/step - loss: 0.0267 - accuracy: 0.9901 - val_loss: 1.0234 - val_accuracy: 0.7915\n"
     ]
    }
   ],
   "source": [
    "#set the optimizer and loss equation here, then compile and run the model.\n",
    "opt = tf.keras.optimizers.Adam(\n",
    "    learning_rate=learn_rate\n",
    ")\n",
    "loss_eqn=tf.keras.losses.BinaryCrossentropy(\n",
    "    from_logits=False)\n",
    "\n",
    "early_stopping= tf.keras.callbacks.EarlyStopping(patience =2)\n",
    "\n",
    "model.compile(optimizer=opt,\n",
    "              loss=loss_eqn,\n",
    "              metrics=['accuracy'])\n",
    "\n",
    "history = model.fit(\n",
    "    train_data,\n",
    "    callbacks=[early_stopping],\n",
    "    epochs=15,\n",
    "    validation_data=validation_data)"
   ]
  },
  {
   "cell_type": "code",
   "execution_count": 11,
   "metadata": {},
   "outputs": [
    {
     "data": {
      "image/png": "[encoded data removed]",
      "text/plain": [
       "<Figure size 1080x720 with 1 Axes>"
      ]
     },
     "metadata": {
      "needs_background": "light"
     },
     "output_type": "display_data"
    },
    {
     "data": {
      "image/png": "[encoded data removed]",
      "text/plain": [
       "<Figure size 1080x720 with 1 Axes>"
      ]
     },
     "metadata": {
      "needs_background": "light"
     },
     "output_type": "display_data"
    }
   ],
   "source": [
    "#plotting the accuracy and losses for our training and validation sets.\n",
    "history_dict = history.history\n",
    "\n",
    "acc = history_dict['accuracy']\n",
    "val_acc = history_dict['val_accuracy']\n",
    "loss=history_dict['loss']\n",
    "val_loss=history_dict['val_loss']\n",
    "\n",
    "epochs = range(1, len(acc) + 1)\n",
    "\n",
    "plt.figure(figsize=(15,10))\n",
    "plt.plot(epochs, loss, 'bo', label='Training loss')\n",
    "plt.plot(epochs, val_loss, 'r', label='Validation loss')\n",
    "plt.title('Training and validation loss')\n",
    "plt.xlabel('Epochs')\n",
    "plt.ylabel('Loss')\n",
    "plt.legend()\n",
    "plt.show()\n",
    "\n",
    "plt.figure(figsize=(15,10))\n",
    "plt.plot(epochs, acc, 'bo', label='Training acc')\n",
    "plt.plot(epochs, val_acc, 'r', label='Validation acc')\n",
    "plt.title('Training and validation accuracy')\n",
    "plt.xlabel('Epochs')\n",
    "plt.ylabel('Accuracy')\n",
    "plt.legend(loc='lower right')\n",
    "plt.ylim((0.5,1))\n",
    "plt.show()"
   ]
  },
  {
   "cell_type": "code",
   "execution_count": 12,
   "metadata": {},
   "outputs": [
    {
     "name": "stdout",
     "output_type": "stream",
     "text": [
      "\r",
      "1/1 [==============================] - 0s 71ms/step - loss: 1.1279 - accuracy: 0.7856\n"
     ]
    }
   ],
   "source": [
    "# Test the model on a unseen data sample\n",
    "result = model.evaluate(test_data)"
   ]
  },
  {
   "cell_type": "code",
   "execution_count": 13,
   "metadata": {},
   "outputs": [],
   "source": [
    "#Extract TSV files of the word embeddings, to be used with the embedding project http://projector.tensorflow.org/\n",
    "import io\n",
    "\n",
    "e = model.layers[0]\n",
    "weights = e.get_weights()[0]\n",
    "\n",
    "out_v = io.open('vecs.tsv', 'w', encoding='utf-8')\n",
    "out_m = io.open('meta.tsv', 'w', encoding='utf-8')\n",
    "\n",
    "for num, word in enumerate(encoder.subwords):\n",
    "    vec = weights[num+1] # skip 0, it's padding.\n",
    "    out_m.write(word + \"\\n\")\n",
    "    out_v.write('\\t'.join([str(x) for x in vec]) + \"\\n\")\n",
    "out_v.close()\n",
    "out_m.close()"
   ]
  }
 ],
 "metadata": {
  "kernelspec": {
   "display_name": "Python 3",
   "language": "python",
   "name": "python3"
  },
  "language_info": {
   "codemirror_mode": {
    "name": "ipython",
    "version": 3
   },
   "file_extension": ".py",
   "mimetype": "text/x-python",
   "name": "python",
   "nbconvert_exporter": "python",
   "pygments_lexer": "ipython3",
   "version": "3.8.5"
  }
 },
 "nbformat": 4,
 "nbformat_minor": 2
}
