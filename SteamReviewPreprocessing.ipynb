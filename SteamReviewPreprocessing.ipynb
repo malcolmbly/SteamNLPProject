{
 "cells": [
  {
   "cell_type": "code",
   "execution_count": 92,
   "metadata": {},
   "outputs": [],
   "source": [
    "import numpy as np\n",
    "import pandas as pd\n",
    "import ast\n",
    "import re\n",
    "\n",
    "from collections import Counter\n",
    "import tensorflow_datasets as tfds"
   ]
  },
  {
   "cell_type": "code",
   "execution_count": 93,
   "metadata": {},
   "outputs": [],
   "source": [
    "##reload review data set and get summary\n",
    "review_data=pd.read_json(path_or_buf= 'SteamData/SteamReviews.json', orient='columns')\n",
    "with open('SteamData/SteamReviewSummary.txt', 'r') as file:\n",
    "    review_summary= ast.literal_eval(file.read())"
   ]
  },
  {
   "cell_type": "code",
   "execution_count": 94,
   "metadata": {},
   "outputs": [
    {
     "data": {
      "text/plain": [
       "0"
      ]
     },
     "execution_count": 94,
     "metadata": {},
     "output_type": "execute_result"
    }
   ],
   "source": [
    "# if greater than zero, we have duplicates present\n",
    "pd.set_option('display.max_rows', 9300)\n",
    "review_data.duplicated(subset=None, keep='first').sum()"
   ]
  },
  {
   "cell_type": "code",
   "execution_count": 95,
   "metadata": {},
   "outputs": [],
   "source": [
    "review_text=review_data['review'].copy()\n",
    "review_rating= review_data['voted_up'].copy()\n",
    "\n",
    "#the decontracted method removed contractions and also a few common typos\n",
    "def decontracted(phrase):\n",
    "    \n",
    "    # specific\n",
    "    phrase = re.sub(r'\\btl;dr\\b', 'tldr', phrase)\n",
    "    phrase = re.sub(r'\\bwon\\'t\\b', 'will not', phrase)\n",
    "    phrase = re.sub(r'\\bcan\\'t\\b', 'can not', phrase)\n",
    "    phrase = re.sub(r'\\bdont\\b', 'do not', phrase)\n",
    "    phrase = re.sub(r'\\bwont\\b', 'will not', phrase)\n",
    "    phrase = re.sub(r'\\bcant\\b', 'can not', phrase)\n",
    "    phrase = re.sub(r'\\bcannot\\b', 'can not', phrase)\n",
    "    phrase = re.sub(r'\\blet\\'s\\b', 'let us', phrase)\n",
    "    phrase = re.sub(r'\\bw/\\b', 'with', phrase)\n",
    "    phrase = re.sub(r'\\bw/o\\b', 'without', phrase)\n",
    "    phrase = re.sub(r'\\bive\\b', 'i have', phrase)\n",
    "    phrase = re.sub(r'\\blets\\b', 'let us', phrase)\n",
    "    \n",
    "    # general\n",
    "    phrase = re.sub(r'\\b&\\b', 'and', phrase)\n",
    "    phrase = re.sub(r'n\\'t', ' not', phrase)\n",
    "    phrase = re.sub(r'\\'re', ' are', phrase)\n",
    "    phrase = re.sub(r'\\'s', ' is', phrase)\n",
    "    phrase = re.sub(r'\\'d', ' would', phrase)\n",
    "    phrase = re.sub(r'\\'ll', ' will', phrase)\n",
    "    phrase = re.sub(r'\\'t', ' not', phrase)\n",
    "    phrase = re.sub(r'\\'ve', ' have', phrase)\n",
    "    phrase = re.sub(r'\\'m', ' am', phrase)\n",
    "    return phrase\n",
    "\n",
    "\n",
    "#removing contractions, URLs, digits (and any non-space character around them)\n",
    "for i in range(len(review_text)): \n",
    "    review_text[i]=decontracted(review_text[i].lower())\n",
    "    review_text[i]=re.sub(r'(http\\S+|\\[.*?\\])|\\\\n|\\$|\\S*\\d\\S*|[^\\x00-\\x7A]|\\W', ' ', review_text[i])"
   ]
  },
  {
   "cell_type": "code",
   "execution_count": 96,
   "metadata": {},
   "outputs": [
    {
     "name": "stdout",
     "output_type": "stream",
     "text": [
      "(9283, 21) {'num_reviews': 1, 'review_score': 5, 'review_score_desc': 'Mixed', 'total_positive': 3977, 'total_negative': 5306, 'total_reviews': 9283}\n"
     ]
    }
   ],
   "source": [
    "print(review_data.shape, review_summary)"
   ]
  },
  {
   "cell_type": "code",
   "execution_count": 97,
   "metadata": {},
   "outputs": [],
   "source": [
    "#Converting the reviews to word vectors\n",
    "\n",
    "#initialize a counter object\n",
    "word_count =Counter()\n",
    "\n",
    "#For each review in our file, we update our counter with any new words and increase the count of words already seen.\n",
    "for review in review_text:\n",
    "    word_count.update(review.split())\n",
    "    \n",
    "#identifying words only used a few times, and removing most common words (like the, and, a)\n",
    "top_word_list = word_count.most_common(5)\n",
    "low_appearance_word_list = [w for w in word_count if word_count[w] <= 3]\n",
    "#len(one_appearance_word_list)\n",
    "#len(word_count)\n",
    "\n",
    "#Removing useless words, \n",
    "\n",
    "#initializing a regex pattern for removing words\n",
    "trim_word_regex=''\n",
    "\n",
    "#a single regex expression is created by concatenating each word in the list of words to remove\n",
    "for word in low_appearance_word_list:\n",
    "    trim_word_regex+='\\\\b'+ word + '\\\\b|'\n",
    "for word, count in top_word_list:  \n",
    "    trim_word_regex+='\\\\b'+ word + '\\\\b|'\n",
    "#eliminate single characters because some people t y p e  l i k e  t h i s for emphasis    \n",
    "trim_word_regex+='\\\\b\\\\w\\\\b'\n",
    "pattern=re.compile(trim_word_regex)"
   ]
  },
  {
   "cell_type": "code",
   "execution_count": 98,
   "metadata": {},
   "outputs": [],
   "source": [
    "rating_encoded=[]\n",
    "for i in review_rating:\n",
    "    rating_encoded.append(int(i))\n",
    "    \n",
    "review_text_trimmed=[]\n",
    "#removing words that appear one time, or appear so often that they contain no information\n",
    "for i in range(len(review_text)):\n",
    "    review_text_trimmed.append(re.sub(pattern,'', review_text[i]))\n",
    "\n",
    "#delete any empty reviews\n",
    "for x,y in enumerate(review_text_trimmed):\n",
    "    if not y or y.isspace():\n",
    "        del review_text_trimmed[x]\n",
    "        del rating_encoded[x]\n",
    "    "
   ]
  },
  {
   "cell_type": "code",
   "execution_count": 99,
   "metadata": {},
   "outputs": [],
   "source": [
    "for i in range(len(review_text_trimmed)): \n",
    "    review_text_trimmed[i]=re.sub(r'\\s{2,}',' ', review_text_trimmed[i])\n",
    "    \n",
    "#create and save encoder for our reviews\n",
    "encoder = tfds.features.text.SubwordTextEncoder.build_from_corpus(\n",
    "    review_text_trimmed, target_vocab_size=len(word_count)+1)\n",
    "encoder.save_to_file('SteamData/SteamReviewVocab')\n"
   ]
  },
  {
   "cell_type": "code",
   "execution_count": 100,
   "metadata": {},
   "outputs": [],
   "source": [
    "review_text_encoded = list(map(encoder.encode, review_text_trimmed))\n",
    "\n",
    "encoded_review_d=pd.DataFrame(data=review_text_encoded)\n",
    "rating_encoded_d=pd.DataFrame(data=rating_encoded,columns=['Rating'])\n",
    "\n",
    "encoded_review_d=encoded_review_d.fillna(0)\n",
    "encoded_review_d=encoded_review_d.applymap(lambda x: int(x))\n",
    "\n",
    "\n",
    "pl = encoded_review_d.to_numpy().tolist()\n",
    "padded_encoded_review_d = pd.DataFrame(data=[pl], dtype='int64')\n",
    "padded_encoded_review_d = padded_encoded_review_d.T"
   ]
  },
  {
   "cell_type": "code",
   "execution_count": 101,
   "metadata": {},
   "outputs": [],
   "source": [
    "#save our reviews and their positive/negative review label\n",
    "my_df = pd.concat([padded_encoded_review_d, rating_encoded_d], axis=1)\n",
    "my_df.reset_index()\n",
    "my_df.to_csv('SteamData/FormattedReviewRatingList.csv', index=False, header=True)"
   ]
  },
  {
   "cell_type": "code",
   "execution_count": 102,
   "metadata": {},
   "outputs": [
    {
     "data": {
      "text/plain": [
       "0.4270640704884151"
      ]
     },
     "execution_count": 102,
     "metadata": {},
     "output_type": "execute_result"
    }
   ],
   "source": [
    "#This number gives an indication of the ratio of positive to negative reviews\n",
    "np.average(rating_encoded)"
   ]
  },
  {
   "cell_type": "code",
   "execution_count": null,
   "metadata": {},
   "outputs": [],
   "source": []
  }
 ],
 "metadata": {
  "kernelspec": {
   "display_name": "Python 3",
   "language": "python",
   "name": "python3"
  },
  "language_info": {
   "codemirror_mode": {
    "name": "ipython",
    "version": 3
   },
   "file_extension": ".py",
   "mimetype": "text/x-python",
   "name": "python",
   "nbconvert_exporter": "python",
   "pygments_lexer": "ipython3",
   "version": "3.7.9"
  }
 },
 "nbformat": 4,
 "nbformat_minor": 4
}
